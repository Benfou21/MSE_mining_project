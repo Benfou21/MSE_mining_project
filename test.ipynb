{
 "cells": [
  {
   "cell_type": "code",
   "execution_count": 1,
   "metadata": {},
   "outputs": [
    {
     "name": "stdout",
     "output_type": "stream",
     "text": [
      "Requirement already satisfied: requests in c:\\users\\benfo\\appdata\\local\\programs\\python\\python311\\lib\\site-packages (2.32.3)\n",
      "Requirement already satisfied: pandas in c:\\users\\benfo\\appdata\\local\\programs\\python\\python311\\lib\\site-packages (2.1.0)\n",
      "Requirement already satisfied: networkx in c:\\users\\benfo\\appdata\\local\\programs\\python\\python311\\lib\\site-packages (3.0)\n",
      "Requirement already satisfied: matplotlib in c:\\users\\benfo\\appdata\\local\\programs\\python\\python311\\lib\\site-packages (3.6.3)\n",
      "Requirement already satisfied: charset-normalizer<4,>=2 in c:\\users\\benfo\\appdata\\local\\programs\\python\\python311\\lib\\site-packages (from requests) (3.3.2)\n",
      "Requirement already satisfied: idna<4,>=2.5 in c:\\users\\benfo\\appdata\\local\\programs\\python\\python311\\lib\\site-packages (from requests) (3.7)\n",
      "Requirement already satisfied: urllib3<3,>=1.21.1 in c:\\users\\benfo\\appdata\\local\\programs\\python\\python311\\lib\\site-packages (from requests) (2.2.1)\n",
      "Requirement already satisfied: certifi>=2017.4.17 in c:\\users\\benfo\\appdata\\local\\programs\\python\\python311\\lib\\site-packages (from requests) (2024.2.2)\n",
      "Requirement already satisfied: numpy>=1.23.2 in c:\\users\\benfo\\appdata\\local\\programs\\python\\python311\\lib\\site-packages (from pandas) (1.26.3)\n",
      "Requirement already satisfied: python-dateutil>=2.8.2 in c:\\users\\benfo\\appdata\\local\\programs\\python\\python311\\lib\\site-packages (from pandas) (2.9.0.post0)\n",
      "Requirement already satisfied: pytz>=2020.1 in c:\\users\\benfo\\appdata\\local\\programs\\python\\python311\\lib\\site-packages (from pandas) (2022.6)\n",
      "Requirement already satisfied: tzdata>=2022.1 in c:\\users\\benfo\\appdata\\local\\programs\\python\\python311\\lib\\site-packages (from pandas) (2024.1)\n",
      "Requirement already satisfied: contourpy>=1.0.1 in c:\\users\\benfo\\appdata\\local\\programs\\python\\python311\\lib\\site-packages (from matplotlib) (1.0.7)\n",
      "Requirement already satisfied: cycler>=0.10 in c:\\users\\benfo\\appdata\\local\\programs\\python\\python311\\lib\\site-packages (from matplotlib) (0.11.0)\n",
      "Requirement already satisfied: fonttools>=4.22.0 in c:\\users\\benfo\\appdata\\local\\programs\\python\\python311\\lib\\site-packages (from matplotlib) (4.38.0)\n",
      "Requirement already satisfied: kiwisolver>=1.0.1 in c:\\users\\benfo\\appdata\\local\\programs\\python\\python311\\lib\\site-packages (from matplotlib) (1.4.4)\n",
      "Requirement already satisfied: packaging>=20.0 in c:\\users\\benfo\\appdata\\local\\programs\\python\\python311\\lib\\site-packages (from matplotlib) (24.1)\n",
      "Requirement already satisfied: pillow>=6.2.0 in c:\\users\\benfo\\appdata\\local\\programs\\python\\python311\\lib\\site-packages (from matplotlib) (10.3.0)\n",
      "Requirement already satisfied: pyparsing>=2.2.1 in c:\\users\\benfo\\appdata\\local\\programs\\python\\python311\\lib\\site-packages (from matplotlib) (3.0.9)\n",
      "Requirement already satisfied: six>=1.5 in c:\\users\\benfo\\appdata\\local\\programs\\python\\python311\\lib\\site-packages (from python-dateutil>=2.8.2->pandas) (1.16.0)\n"
     ]
    },
    {
     "name": "stderr",
     "output_type": "stream",
     "text": [
      "'/f' n’est pas reconnu en tant que commande interne\n",
      "ou externe, un programme exécutable ou un fichier de commandes.\n",
      "\n",
      "[notice] A new release of pip is available: 24.0 -> 24.3.1\n",
      "[notice] To update, run: python.exe -m pip install --upgrade pip\n"
     ]
    }
   ],
   "source": [
    "!pip install requests pandas networkx matplotlib"
   ]
  },
  {
   "cell_type": "markdown",
   "metadata": {},
   "source": [
    "### Etude de la base de données représentant MAVEN"
   ]
  },
  {
   "cell_type": "markdown",
   "metadata": {},
   "source": [
    "#### Setup\n"
   ]
  },
  {
   "cell_type": "markdown",
   "metadata": {},
   "source": [
    "-- > Installer NE4OJ (site : https://neo4j.com/docs/operations-manual/4.4/installation/windows/)\n",
    "\n",
    "- Install java 11 : https://www.oracle.com/java/technologies/downloads/?er=221886#java11  \n",
    "    - Extrayez l'archive téléchargée\n",
    "    - Configurez la variable d'environnement JAVA_HOME pour pointer vers le répertoire extrait.\n",
    "    - Ajoutez le chemin bin du répertoire java à la variable PATH.\n",
    "\n",
    "- Install neo4j v4.4 (version : neo4j-community-4.4.38-windows) : https://neo4j.com/deployment-center/  dans Graph Database \n",
    "Self-Managed -> Communty et choisir version v4.4\n",
    "    - Extrayez l'archive téléchargée\n",
    "    - Configurez la variable d'environnement NEO4J_HOME pour pointer vers le répertoire extrait.\n",
    "    - Ajoutez le chemin bin du répertoire à la variable PATH.\n",
    "\n",
    "- Mettez changer le password de la base (exemple) :\n",
    "    - neo4j-admin set-initial-password <password> --require-password-change\n",
    "        - user = neo4j\n",
    "        - pwd = base\n",
    "\n",
    "- Télécharger la base de données (graph)\n",
    "    - DL la base de données \"goblin_maven_30_08_24.dump\" (à dl ici: https://zenodo.org/records/10291589)\n",
    "    - neo4j-admin load --from=[schemin vers le fichier dum] --database=neo4j --force\n",
    "\n",
    "- RUN \n",
    "    - Exécuter ces commandes : \n",
    "        - $env:JAVA_HOME= [Schemin vers java 11]\n",
    "        - $env:PATH=\"$env:JAVA_HOME\\bin;$env:PATH\"\n",
    "        - neo4j start \n",
    "        - Allez sur l'adresse local indiqué pour voir si ça marche"
   ]
  },
  {
   "cell_type": "markdown",
   "metadata": {},
   "source": [
    "--> Goblin\n",
    "\n",
    "- Install java 17 : https://www.oracle.com/java/technologies/downloads/?er=221886#java17\n",
    "    - Extrayez l'archive téléchargée\n",
    "    - Configurez la variable d'environnement JAVA_HOME pour pointer vers le répertoire extrait.\n",
    "    - Ajoutez le chemin bin du répertoire java à la variable PATH.\n",
    "\n",
    "- Télécharger le fichier goblinWeaver-1.0.0.jar (dans le dossier sinon à dl ici : https://zenodo.org/records/10291589)\n",
    "\n",
    "- RUN \n",
    "    - $env:JAVA_HOME=[Schemin vers java 17]\n",
    "    - $env:PATH=\"$env:JAVA_HOME\\bin;$env:PATH\n",
    "    - java -Dneo4jUri=\"bolt://localhost:7687\" -Dneo4jUser=\"neo4j\" -Dneo4jPassword=\"base\" -jar goblinWeaver-1.0.0.jar\n",
    "    - use : noUpdate argument if already run once\n",
    "    - Aller sur : http://localhost:8080/swagger-ui/index.html\n"
   ]
  },
  {
   "cell_type": "markdown",
   "metadata": {},
   "source": [
    "### Comprendre les outils"
   ]
  },
  {
   "cell_type": "markdown",
   "metadata": {},
   "source": [
    "#### Neo4j\n",
    "- Neo4j est une base de données sours forme de GRAPH. \n",
    "- Il faut utiliser des requêtes CYPHER pour communiquer avec la base\n",
    "\n",
    "#### Goblin\n",
    "- Goblin est un intermédiaire entre vous et la base neo4j. \n",
    "- Elle permet d'ajouter des valeurs tels que CVE à une requête pour récupérer des infos suppélementaires\n",
    "- On communique avec l'outil via des requête à l'url qu'elle met en place, lorsqu'on la run (http://localhost:8080/cypher)"
   ]
  },
  {
   "cell_type": "markdown",
   "metadata": {},
   "source": [
    "#### Exemple de requête\n"
   ]
  },
  {
   "cell_type": "code",
   "execution_count": null,
   "metadata": {},
   "outputs": [],
   "source": [
    "import requests\n",
    "import pandas as pd\n",
    "import matplotlib.pyplot as plt"
   ]
  },
  {
   "cell_type": "code",
   "execution_count": 3,
   "metadata": {},
   "outputs": [],
   "source": [
    "url = \"http://localhost:8080/cypher\"\n",
    "headers = {\"Content-Type\": \"application/json\"}"
   ]
  },
  {
   "cell_type": "code",
   "execution_count": 4,
   "metadata": {},
   "outputs": [],
   "source": [
    "def post_query(query):\n",
    "    \n",
    "    response = requests.post(url, headers=headers, json=query)\n",
    "    \n",
    "    if response.status_code == 200:\n",
    "        return response.json()\n",
    "    else:\n",
    "        print(\"Erreur :\", response.text)"
   ]
  },
  {
   "cell_type": "markdown",
   "metadata": {},
   "source": [
    "Exemple que query CYPHER pour retourner 10 noeuds "
   ]
  },
  {
   "cell_type": "code",
   "execution_count": null,
   "metadata": {},
   "outputs": [
    {
     "name": "stdout",
     "output_type": "stream",
     "text": [
      "[{'node': {'elementId': '0', 'found': True, 'id': 'com.splendo.kaluga:alerts-androidlib', 'labels': ['Artifact']}}, {'node': {'elementId': '1', 'found': True, 'id': 'org.wso2.carbon.identity.framework:org.wso2.carbon.identity.cors.mgt.core', 'labels': ['Artifact']}}, {'node': {'elementId': '2', 'found': True, 'id': 'org.apache.camel.quarkus:camel-quarkus-kotlin-parent', 'labels': ['Artifact']}}, {'node': {'elementId': '3', 'id': 'org.wso2.carbon.identity.framework:org.wso2.carbon.identity.cors.mgt.core:5.20.111', 'CVE': [], 'version': '5.20.111', 'timestamp': 1626148242000, 'labels': ['Release']}}, {'node': {'elementId': '4', 'id': 'org.apache.camel.quarkus:camel-quarkus-kotlin-parent:1.0.0-M4', 'CVE': [], 'version': '1.0.0-M4', 'timestamp': 1583239943000, 'labels': ['Release']}}, {'node': {'elementId': '5', 'id': 'org.apache.camel.quarkus:camel-quarkus-kotlin-parent:1.0.0-M3', 'CVE': [], 'version': '1.0.0-M3', 'timestamp': 1579861029000, 'labels': ['Release']}}, {'node': {'elementId': '6', 'id': 'org.wso2.carbon.identity.framework:org.wso2.carbon.identity.cors.mgt.core:5.20.113', 'CVE': [], 'version': '5.20.113', 'timestamp': 1626179580000, 'labels': ['Release']}}, {'node': {'elementId': '7', 'id': 'org.wso2.carbon.identity.framework:org.wso2.carbon.identity.cors.mgt.core:5.20.112', 'CVE': [], 'version': '5.20.112', 'timestamp': 1626170945000, 'labels': ['Release']}}, {'node': {'elementId': '8', 'id': 'org.wso2.carbon.identity.framework:org.wso2.carbon.identity.cors.mgt.core:5.20.115', 'CVE': [], 'version': '5.20.115', 'timestamp': 1626340086000, 'labels': ['Release']}}, {'node': {'elementId': '9', 'id': 'org.apache.camel.quarkus:camel-quarkus-kotlin-parent:1.0.0-M2', 'CVE': [], 'version': '1.0.0-M2', 'timestamp': 1576600059000, 'labels': ['Release']}}]\n"
     ]
    }
   ],
   "source": [
    "query = {\n",
    "    \"query\": \"MATCH (n) RETURN n LIMIT 10\",\n",
    "    \"addedValues\": [\"CVE\"]\n",
    "}\n",
    "\n",
    "reponse  = post_query(query)\n",
    "print(reponse)"
   ]
  },
  {
   "cell_type": "markdown",
   "metadata": {},
   "source": [
    "### Sujet :"
   ]
  },
  {
   "cell_type": "markdown",
   "metadata": {},
   "source": [
    "Objective : \n",
    "\n",
    "Investigate the clustering patterns within the Maven Central dependency graph to identify distinct clusters and assess their interactions, with a focus on detecting high-risk clusters that could impact ecosystem stability.\n",
    "\n",
    "Research Questions :\n",
    "\n",
    "1 -  Can we deduce different clusters from Maven Central’s comprehensive dependency graph? How do these clusters interact with one another?\n",
    "\n",
    "2 - How can clustering be used to identify high-risk clusters in the Maven Central ecosystem?\n"
   ]
  },
  {
   "cell_type": "markdown",
   "metadata": {},
   "source": [
    "### 1/ Comprendre le graphe\n"
   ]
  },
  {
   "cell_type": "markdown",
   "metadata": {},
   "source": [
    "Types de noeuds "
   ]
  },
  {
   "cell_type": "code",
   "execution_count": 6,
   "metadata": {},
   "outputs": [],
   "source": [
    "query = {\n",
    "    \"query\": \"\"\"\n",
    "            MATCH (n)\n",
    "            RETURN labels(n) AS labels, COUNT(*) AS count\n",
    "    \"\"\",\n",
    "    \"addedValues\": []\n",
    "}\n",
    "\n",
    "# reponse = post_query(query)\n",
    "# print(reponse)"
   ]
  },
  {
   "cell_type": "markdown",
   "metadata": {},
   "source": [
    "Il y a 2 types de noeuds : \n",
    "\n",
    "- 658078 noeuds Artifact\n",
    "\n",
    "- 14459139 noeuds Release"
   ]
  },
  {
   "cell_type": "markdown",
   "metadata": {},
   "source": [
    "Types de relations"
   ]
  },
  {
   "cell_type": "code",
   "execution_count": 7,
   "metadata": {},
   "outputs": [],
   "source": [
    "query = {\n",
    "    \"query\": \"\"\"\n",
    "        MATCH ()-[r]->()\n",
    "        RETURN type(r) AS relation_type, COUNT(*) AS count\n",
    "\n",
    "    \"\"\",\n",
    "    \"addedValues\": []\n",
    "}\n",
    "\n",
    "#reponse = post_query(query)\n",
    "# print(reponse)"
   ]
  },
  {
   "cell_type": "markdown",
   "metadata": {},
   "source": [
    "Il y a 2 types de relations : \n",
    "\n",
    "- 14459139 liens relationship_AR\n",
    "\n",
    "- 119660406 noeuds dependency"
   ]
  },
  {
   "cell_type": "markdown",
   "metadata": {},
   "source": [
    "Echantillon"
   ]
  },
  {
   "cell_type": "code",
   "execution_count": 8,
   "metadata": {},
   "outputs": [
    {
     "name": "stdout",
     "output_type": "stream",
     "text": [
      "[{'node': {'elementId': '14551269', 'id': 'com.splendo.kaluga:alerts-androidlib:1.4.0', 'version': '1.4.0', 'timestamp': 1718120613000, 'labels': ['Release']}, 'relationship': {'sourceElementId': '0', 'targetElementId': '14551269', 'type': 'relationship_AR'}}, {'node': {'elementId': '13409270', 'id': 'com.splendo.kaluga:alerts-androidlib:1.3.1', 'version': '1.3.1', 'timestamp': 1702996551000, 'labels': ['Release']}, 'relationship': {'sourceElementId': '0', 'targetElementId': '13409270', 'type': 'relationship_AR'}}, {'node': {'elementId': '13409269', 'id': 'com.splendo.kaluga:alerts-androidlib:1.3.0', 'version': '1.3.0', 'timestamp': 1699642766000, 'labels': ['Release']}, 'relationship': {'sourceElementId': '0', 'targetElementId': '13409269', 'type': 'relationship_AR'}}, {'node': {'elementId': '1056748', 'id': 'com.splendo.kaluga:alerts-androidlib:0.1.10', 'version': '0.1.10', 'timestamp': 1620125211000, 'labels': ['Release']}, 'relationship': {'sourceElementId': '0', 'targetElementId': '1056748', 'type': 'relationship_AR'}}, {'node': {'elementId': '1056744', 'id': 'com.splendo.kaluga:alerts-androidlib:0.1.11', 'version': '0.1.11', 'timestamp': 1622650640000, 'labels': ['Release']}, 'relationship': {'sourceElementId': '0', 'targetElementId': '1056744', 'type': 'relationship_AR'}}, {'node': {'elementId': '756391', 'id': 'com.splendo.kaluga:alerts-androidlib:1.0.0', 'version': '1.0.0', 'timestamp': 1677585253000, 'labels': ['Release']}, 'relationship': {'sourceElementId': '0', 'targetElementId': '756391', 'type': 'relationship_AR'}}, {'node': {'elementId': '755524', 'id': 'com.splendo.kaluga:alerts-androidlib:1.1.0', 'version': '1.1.0', 'timestamp': 1679671364000, 'labels': ['Release']}, 'relationship': {'sourceElementId': '0', 'targetElementId': '755524', 'type': 'relationship_AR'}}, {'node': {'elementId': '754599', 'id': 'com.splendo.kaluga:alerts-androidlib:1.2.1', 'version': '1.2.1', 'timestamp': 1684327389000, 'labels': ['Release']}, 'relationship': {'sourceElementId': '0', 'targetElementId': '754599', 'type': 'relationship_AR'}}, {'node': {'elementId': '754587', 'id': 'com.splendo.kaluga:alerts-androidlib:1.2.0', 'version': '1.2.0', 'timestamp': 1683713794000, 'labels': ['Release']}, 'relationship': {'sourceElementId': '0', 'targetElementId': '754587', 'type': 'relationship_AR'}}, {'node': {'elementId': '3703', 'id': 'com.splendo.kaluga:alerts-androidlib:0.2.1', 'version': '0.2.1', 'timestamp': 1628709123000, 'labels': ['Release']}, 'relationship': {'sourceElementId': '0', 'targetElementId': '3703', 'type': 'relationship_AR'}}]\n"
     ]
    }
   ],
   "source": [
    "query = {\n",
    "    \"query\": \"\"\"\n",
    "        MATCH (a)-[r]->(b)\n",
    "        RETURN a, r, b LIMIT 10\n",
    "\n",
    "    \"\"\",\n",
    "    \"addedValues\": []\n",
    "}\n",
    "\n",
    "reponse = post_query(query)\n",
    "print(reponse)"
   ]
  },
  {
   "cell_type": "markdown",
   "metadata": {},
   "source": [
    "### 2/ Construire le graphe de dépendances (à développer )"
   ]
  },
  {
   "cell_type": "code",
   "execution_count": 9,
   "metadata": {},
   "outputs": [],
   "source": [
    "import networkx as nx\n",
    "from networkx.algorithms.community import louvain_communities"
   ]
  },
  {
   "cell_type": "markdown",
   "metadata": {},
   "source": [
    "#### Récupérations des dépendances"
   ]
  },
  {
   "cell_type": "markdown",
   "metadata": {},
   "source": [
    "- Problèmes : trouver un moyen d'analyser la totalité du graphe\n",
    "    - Ci dessous on utilise un échantillon (temporaire)"
   ]
  },
  {
   "cell_type": "markdown",
   "metadata": {},
   "source": [
    "- Echantillon : 5000 relations\n",
    "- On récupère seulement les noms du target et source (essayer de récupérer plus d'info pour l'analyse)"
   ]
  },
  {
   "cell_type": "code",
   "execution_count": 22,
   "metadata": {},
   "outputs": [
    {
     "name": "stdout",
     "output_type": "stream",
     "text": [
      "                                              source  \\\n",
      "0  com.splendo.kaluga:test-utils-alerts-androidli...   \n",
      "1  com.splendo.kaluga:test-utils-alerts-androidli...   \n",
      "2  com.splendo.kaluga:test-utils-alerts-androidli...   \n",
      "3     com.splendo.kaluga:test-utils-androidlib:0.2.3   \n",
      "4     com.splendo.kaluga:test-utils-androidlib:0.2.1   \n",
      "\n",
      "                                 target  \n",
      "0  com.splendo.kaluga:alerts-androidlib  \n",
      "1  com.splendo.kaluga:alerts-androidlib  \n",
      "2  com.splendo.kaluga:alerts-androidlib  \n",
      "3  com.splendo.kaluga:alerts-androidlib  \n",
      "4  com.splendo.kaluga:alerts-androidlib  \n"
     ]
    }
   ],
   "source": [
    "\n",
    "query = {\n",
    "    \"query\": \"\"\"\n",
    "    MATCH (a:Release)-[r:dependency]->(b:Artifact)\n",
    "    RETURN a.id AS source, b.id AS target\n",
    "    LIMIT 5000\n",
    "\n",
    "    \"\"\",\n",
    "    \"addedValues\": [\"CVE\"]\n",
    "}\n",
    "\n",
    "response = requests.post(url, headers=headers, json=query)\n",
    "\n",
    "if response.status_code == 200:\n",
    "    edges = pd.DataFrame(response.json(), columns=[\"source\", \"target\"])\n",
    "    print(edges.head())\n",
    "else:\n",
    "    print(\"Erreur :\", response.text)\n"
   ]
  },
  {
   "cell_type": "markdown",
   "metadata": {},
   "source": [
    "Save"
   ]
  },
  {
   "cell_type": "code",
   "execution_count": 23,
   "metadata": {},
   "outputs": [
    {
     "name": "stdout",
     "output_type": "stream",
     "text": [
      "Les arêtes ont été sauvegardées dans edges.csv\n"
     ]
    }
   ],
   "source": [
    "edges.to_csv(\"edges.csv\", index=False)\n",
    "print(\"Les arêtes ont été sauvegardées dans edges.csv\")"
   ]
  },
  {
   "cell_type": "markdown",
   "metadata": {},
   "source": [
    "#### Graphs"
   ]
  },
  {
   "cell_type": "markdown",
   "metadata": {},
   "source": [
    "Chargement"
   ]
  },
  {
   "cell_type": "code",
   "execution_count": 24,
   "metadata": {},
   "outputs": [
    {
     "name": "stdout",
     "output_type": "stream",
     "text": [
      "                                              source  \\\n",
      "0  com.splendo.kaluga:test-utils-alerts-androidli...   \n",
      "1  com.splendo.kaluga:test-utils-alerts-androidli...   \n",
      "2  com.splendo.kaluga:test-utils-alerts-androidli...   \n",
      "3     com.splendo.kaluga:test-utils-androidlib:0.2.3   \n",
      "4     com.splendo.kaluga:test-utils-androidlib:0.2.1   \n",
      "\n",
      "                                 target  \n",
      "0  com.splendo.kaluga:alerts-androidlib  \n",
      "1  com.splendo.kaluga:alerts-androidlib  \n",
      "2  com.splendo.kaluga:alerts-androidlib  \n",
      "3  com.splendo.kaluga:alerts-androidlib  \n",
      "4  com.splendo.kaluga:alerts-androidlib  \n"
     ]
    }
   ],
   "source": [
    "edges = pd.read_csv(\"edges.csv\")\n",
    "print(edges.head())"
   ]
  },
  {
   "cell_type": "code",
   "execution_count": 25,
   "metadata": {},
   "outputs": [
    {
     "name": "stdout",
     "output_type": "stream",
     "text": [
      "Nombre de nœuds : 5012\n",
      "Nombre de relations : 5000\n"
     ]
    }
   ],
   "source": [
    "G = nx.from_pandas_edgelist(edges, source=\"source\", target=\"target\")\n",
    "print(f\"Nombre de nœuds : {G.number_of_nodes()}\")\n",
    "print(f\"Nombre de relations : {G.number_of_edges()}\")\n"
   ]
  },
  {
   "cell_type": "markdown",
   "metadata": {},
   "source": [
    "#### Clusters"
   ]
  },
  {
   "cell_type": "code",
   "execution_count": 26,
   "metadata": {},
   "outputs": [
    {
     "name": "stdout",
     "output_type": "stream",
     "text": [
      "Nombre de clusters détectés : 12\n"
     ]
    }
   ],
   "source": [
    "clusters = louvain_communities(G)\n",
    "print(f\"Nombre de clusters détectés : {len(clusters)}\")\n",
    "\n",
    "# Ajouter un attribut \"cluster\" aux nœuds\n",
    "for i, cluster in enumerate(clusters):\n",
    "    for node in cluster:\n",
    "        G.nodes[node][\"cluster\"] = i\n"
   ]
  },
  {
   "cell_type": "code",
   "execution_count": 27,
   "metadata": {},
   "outputs": [
    {
     "data": {
      "image/png": "[encoded data removed]",
      "text/plain": [
       "<Figure size 1200x1200 with 1 Axes>"
      ]
     },
     "metadata": {},
     "output_type": "display_data"
    }
   ],
   "source": [
    "pos = nx.spring_layout(G)\n",
    "cluster_colors = [G.nodes[node][\"cluster\"] for node in G.nodes]\n",
    "\n",
    "plt.figure(figsize=(12, 12))\n",
    "nx.draw(\n",
    "    G,\n",
    "    pos,\n",
    "    node_color=cluster_colors,\n",
    "    with_labels=False,\n",
    "    node_size=10,\n",
    "    cmap=plt.cm.rainbow\n",
    ")\n",
    "plt.title(\"Clusters dans le graphe de dépendances Maven Central\")\n",
    "plt.show()\n"
   ]
  },
  {
   "cell_type": "markdown",
   "metadata": {},
   "source": [
    "#### Analyser les différents cluster "
   ]
  },
  {
   "cell_type": "markdown",
   "metadata": {},
   "source": [
    "#### Analyser leurs intéractions"
   ]
  },
  {
   "cell_type": "markdown",
   "metadata": {},
   "source": [
    "#### Identifier les clusters à risque (utiliser les added_value de goblin)"
   ]
  },
  {
   "cell_type": "markdown",
   "metadata": {},
   "source": [
    "#### En déduire comment le clustering peut aider à identifier les risques "
   ]
  }
 ],
 "metadata": {
  "kernelspec": {
   "display_name": "Python 3",
   "language": "python",
   "name": "python3"
  },
  "language_info": {
   "codemirror_mode": {
    "name": "ipython",
    "version": 3
   },
   "file_extension": ".py",
   "mimetype": "text/x-python",
   "name": "python",
   "nbconvert_exporter": "python",
   "pygments_lexer": "ipython3",
   "version": "3.11.3"
  }
 },
 "nbformat": 4,
 "nbformat_minor": 2
}
